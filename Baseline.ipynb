{
 "cells": [
  {
   "cell_type": "code",
   "execution_count": 2,
   "id": "6625ecd4",
   "metadata": {},
   "outputs": [
    {
     "data": {
      "text/html": [
       "<div>\n",
       "<style scoped>\n",
       "    .dataframe tbody tr th:only-of-type {\n",
       "        vertical-align: middle;\n",
       "    }\n",
       "\n",
       "    .dataframe tbody tr th {\n",
       "        vertical-align: top;\n",
       "    }\n",
       "\n",
       "    .dataframe thead th {\n",
       "        text-align: right;\n",
       "    }\n",
       "</style>\n",
       "<table border=\"1\" class=\"dataframe\">\n",
       "  <thead>\n",
       "    <tr style=\"text-align: right;\">\n",
       "      <th></th>\n",
       "      <th>Lyric</th>\n",
       "      <th>Genre</th>\n",
       "    </tr>\n",
       "  </thead>\n",
       "  <tbody>\n",
       "    <tr>\n",
       "      <th>0</th>\n",
       "      <td>Handy dandy, controversy surrounds him. He bee...</td>\n",
       "      <td>Rock</td>\n",
       "    </tr>\n",
       "    <tr>\n",
       "      <th>1</th>\n",
       "      <td>Same bed, but it feels just a little bit bigge...</td>\n",
       "      <td>Rock</td>\n",
       "    </tr>\n",
       "    <tr>\n",
       "      <th>2</th>\n",
       "      <td>Saw ya out by the pool on the 8th of July. Did...</td>\n",
       "      <td>Pop</td>\n",
       "    </tr>\n",
       "    <tr>\n",
       "      <th>3</th>\n",
       "      <td>Got my shit down super tight. Got my shit down...</td>\n",
       "      <td>Hip Hop</td>\n",
       "    </tr>\n",
       "    <tr>\n",
       "      <th>4</th>\n",
       "      <td>[talk:]. Ay soulja boy in da buildin. Ay i wan...</td>\n",
       "      <td>Hip Hop</td>\n",
       "    </tr>\n",
       "    <tr>\n",
       "      <th>...</th>\n",
       "      <td>...</td>\n",
       "      <td>...</td>\n",
       "    </tr>\n",
       "    <tr>\n",
       "      <th>54995</th>\n",
       "      <td>I can't believe what you did to me. Down on my...</td>\n",
       "      <td>unknown</td>\n",
       "    </tr>\n",
       "    <tr>\n",
       "      <th>54996</th>\n",
       "      <td>Have all the songs been written?. Have all the...</td>\n",
       "      <td>unknown</td>\n",
       "    </tr>\n",
       "    <tr>\n",
       "      <th>54997</th>\n",
       "      <td>Everything you do you do so right. The clothes...</td>\n",
       "      <td>unknown</td>\n",
       "    </tr>\n",
       "    <tr>\n",
       "      <th>54998</th>\n",
       "      <td>(trecho). (Rule Number Two. Understanding what...</td>\n",
       "      <td>unknown</td>\n",
       "    </tr>\n",
       "    <tr>\n",
       "      <th>54999</th>\n",
       "      <td>As fall rides off in the Sunset. I sweep the S...</td>\n",
       "      <td>unknown</td>\n",
       "    </tr>\n",
       "  </tbody>\n",
       "</table>\n",
       "<p>55000 rows × 2 columns</p>\n",
       "</div>"
      ],
      "text/plain": [
       "                                                   Lyric    Genre\n",
       "0      Handy dandy, controversy surrounds him. He bee...     Rock\n",
       "1      Same bed, but it feels just a little bit bigge...     Rock\n",
       "2      Saw ya out by the pool on the 8th of July. Did...      Pop\n",
       "3      Got my shit down super tight. Got my shit down...  Hip Hop\n",
       "4      [talk:]. Ay soulja boy in da buildin. Ay i wan...  Hip Hop\n",
       "...                                                  ...      ...\n",
       "54995  I can't believe what you did to me. Down on my...  unknown\n",
       "54996  Have all the songs been written?. Have all the...  unknown\n",
       "54997  Everything you do you do so right. The clothes...  unknown\n",
       "54998  (trecho). (Rule Number Two. Understanding what...  unknown\n",
       "54999  As fall rides off in the Sunset. I sweep the S...  unknown\n",
       "\n",
       "[55000 rows x 2 columns]"
      ]
     },
     "execution_count": 2,
     "metadata": {},
     "output_type": "execute_result"
    }
   ],
   "source": [
    "import pandas as pd \n",
    "from sklearn.dummy import DummyClassifier\n",
    "from sklearn.metrics import accuracy_score \n",
    "\n",
    "data = pd.read_csv('./data.csv')\n",
    "\n",
    "# Splitting\n",
    "training = data.head(50000)\n",
    "testing = data.tail(5000)\n",
    "holdout_set = training.sample(5000, random_state=1)         # pick 5000 observations randomly\n",
    "training = training.drop(holdout_set.index) # Remove holdout from training data\n",
    "\n",
    "# Build a classifier\n",
    "classifier = DummyClassifier(strategy='most_frequent')\n",
    "classifier.fit(training.drop('Genre',axis=1), training['Genre'])\n",
    "\n",
    "# Estimate accuracy\n",
    "pred = classifier.predict(holdout_set.drop('Genre',axis=1))\n",
    "estimated_accuracy = accuracy_score(holdout_set['Genre'], pred)\n",
    "pd.Series(estimated_accuracy).to_csv('ea.csv', index=False, header=False) \n",
    "\n",
    "# Predict testing set\n",
    "pred = classifier.predict(holdout_set.drop('Genre',axis=1))\n",
    "pred = pd.Series(pred).to_csv('pred.csv', index=False, header=False)\n",
    "\n",
    "data   "
   ]
  },
  {
   "cell_type": "code",
   "execution_count": 8,
   "id": "4f90dcce",
   "metadata": {},
   "outputs": [
    {
     "data": {
      "text/plain": [
       "<AxesSubplot:ylabel='Genre'>"
      ]
     },
     "execution_count": 8,
     "metadata": {},
     "output_type": "execute_result"
    },
    {
     "data": {
      "image/png": "[encoded data removed]",
      "text/plain": [
       "<Figure size 432x288 with 1 Axes>"
      ]
     },
     "metadata": {},
     "output_type": "display_data"
    }
   ],
   "source": [
    "training['Genre'].value_counts().plot.pie()"
   ]
  },
  {
   "cell_type": "code",
   "execution_count": 75,
   "id": "6beb796f",
   "metadata": {
    "scrolled": true
   },
   "outputs": [
    {
     "data": {
      "text/html": [
       "<div>\n",
       "<style scoped>\n",
       "    .dataframe tbody tr th:only-of-type {\n",
       "        vertical-align: middle;\n",
       "    }\n",
       "\n",
       "    .dataframe tbody tr th {\n",
       "        vertical-align: top;\n",
       "    }\n",
       "\n",
       "    .dataframe thead th {\n",
       "        text-align: right;\n",
       "    }\n",
       "</style>\n",
       "<table border=\"1\" class=\"dataframe\">\n",
       "  <thead>\n",
       "    <tr style=\"text-align: right;\">\n",
       "      <th></th>\n",
       "      <th>Lyric</th>\n",
       "      <th>Genre</th>\n",
       "    </tr>\n",
       "  </thead>\n",
       "  <tbody>\n",
       "    <tr>\n",
       "      <th>50059</th>\n",
       "      <td>Lonely moonlight guides my eyes right to the door. So many nights ...</td>\n",
       "      <td>unknown</td>\n",
       "    </tr>\n",
       "    <tr>\n",
       "      <th>53272</th>\n",
       "      <td>One of these nights you wait and see. One of these nights you're g...</td>\n",
       "      <td>unknown</td>\n",
       "    </tr>\n",
       "    <tr>\n",
       "      <th>52656</th>\n",
       "      <td>I know I could lie but I'm telling the truth. Wherever I go there'...</td>\n",
       "      <td>unknown</td>\n",
       "    </tr>\n",
       "    <tr>\n",
       "      <th>53965</th>\n",
       "      <td>Don’t let it go away. This feeling has got to stay. Don’t let it g...</td>\n",
       "      <td>unknown</td>\n",
       "    </tr>\n",
       "    <tr>\n",
       "      <th>54612</th>\n",
       "      <td>I've tried everything. Everything. Everything. To feel something. ...</td>\n",
       "      <td>unknown</td>\n",
       "    </tr>\n",
       "  </tbody>\n",
       "</table>\n",
       "</div>"
      ],
      "text/plain": [
       "                                                                       Lyric  \\\n",
       "50059  Lonely moonlight guides my eyes right to the door. So many nights ...   \n",
       "53272  One of these nights you wait and see. One of these nights you're g...   \n",
       "52656  I know I could lie but I'm telling the truth. Wherever I go there'...   \n",
       "53965  Don’t let it go away. This feeling has got to stay. Don’t let it g...   \n",
       "54612  I've tried everything. Everything. Everything. To feel something. ...   \n",
       "\n",
       "         Genre  \n",
       "50059  unknown  \n",
       "53272  unknown  \n",
       "52656  unknown  \n",
       "53965  unknown  \n",
       "54612  unknown  "
      ]
     },
     "execution_count": 75,
     "metadata": {},
     "output_type": "execute_result"
    }
   ],
   "source": [
    "pd.set_option('display.max_colwidth', 70)\n",
    "testing.sample(5)"
   ]
  }
 ],
 "metadata": {
  "kernelspec": {
   "display_name": "Python 3 (ipykernel)",
   "language": "python",
   "name": "python3"
  },
  "language_info": {
   "codemirror_mode": {
    "name": "ipython",
    "version": 3
   },
   "file_extension": ".py",
   "mimetype": "text/x-python",
   "name": "python",
   "nbconvert_exporter": "python",
   "pygments_lexer": "ipython3",
   "version": "3.11.4"
  }
 },
 "nbformat": 4,
 "nbformat_minor": 5
}
